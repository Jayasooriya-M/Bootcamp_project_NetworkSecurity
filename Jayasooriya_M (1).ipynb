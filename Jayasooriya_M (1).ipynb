{
  "nbformat": 4,
  "nbformat_minor": 0,
  "metadata": {
    "colab": {
      "name": "Jayasooriya M.ipynb",
      "provenance": [],
      "collapsed_sections": []
    },
    "kernelspec": {
      "name": "python3",
      "display_name": "Python 3"
    },
    "language_info": {
      "name": "python"
    }
  },
  "cells": [
    {
      "cell_type": "code",
      "metadata": {
        "id": "DGfRjP34AbAx"
      },
      "source": [
        "import hashlib,binascii"
      ],
      "execution_count": 22,
      "outputs": []
    },
    {
      "cell_type": "markdown",
      "metadata": {
        "id": "rbSL0E7hJlLN"
      },
      "source": [
        "Algorithm present in Hashlib"
      ]
    },
    {
      "cell_type": "code",
      "metadata": {
        "colab": {
          "base_uri": "https://localhost:8080/"
        },
        "id": "GmgeRWnK2Rrn",
        "outputId": "81907668-1cf1-4877-b0a4-9aa2596e9686"
      },
      "source": [
        "print(hashlib.algorithms_available)"
      ],
      "execution_count": 23,
      "outputs": [
        {
          "output_type": "stream",
          "text": [
            "{'shake_128', 'sha1', 'shake_256', 'sha384', 'sha256', 'sha3_512', 'md5', 'blake2b', 'sha3_224', 'blake2s', 'sha3_384', 'sha224', 'sha512', 'sha3_256'}\n"
          ],
          "name": "stdout"
        }
      ]
    },
    {
      "cell_type": "markdown",
      "metadata": {
        "id": "I7zrcZsqJqJo"
      },
      "source": [
        "Get the string from user and encrypt it by md5 Algorithm"
      ]
    },
    {
      "cell_type": "code",
      "metadata": {
        "colab": {
          "base_uri": "https://localhost:8080/"
        },
        "id": "OM3kprQh0yos",
        "outputId": "8c16af47-36e3-4837-ca0d-c44d8206183f"
      },
      "source": [
        "b=input()\n",
        "hashing=hashlib.md5(b.encode())\n",
        "print(hashing.hexdigest())"
      ],
      "execution_count": 24,
      "outputs": [
        {
          "output_type": "stream",
          "text": [
            "hello\n",
            "5d41402abc4b2a76b9719d911017c592\n"
          ],
          "name": "stdout"
        }
      ]
    },
    {
      "cell_type": "markdown",
      "metadata": {
        "id": "YO0wSLIDJ_ET"
      },
      "source": [
        "Get the string from user and encrypt it by shake_256 Algorithm"
      ]
    },
    {
      "cell_type": "code",
      "metadata": {
        "colab": {
          "base_uri": "https://localhost:8080/"
        },
        "id": "wE5yQcSA2csr",
        "outputId": "d206993e-8e3e-4e52-f0a6-dab04c05b92b"
      },
      "source": [
        "hashing=hashlib.shake_256(b.encode())\n",
        "print(hashing.digest(10))"
      ],
      "execution_count": 25,
      "outputs": [
        {
          "output_type": "stream",
          "text": [
            "b'\\x124\\x07Z\\xe4\\xa1\\xe7s\\x16\\xcf'\n"
          ],
          "name": "stdout"
        }
      ]
    },
    {
      "cell_type": "markdown",
      "metadata": {
        "id": "iV9wDHL5LZKb"
      },
      "source": [
        "Get the string from user and encrypt it by shake_128 Algorithm\n",
        "\n"
      ]
    },
    {
      "cell_type": "code",
      "metadata": {
        "colab": {
          "base_uri": "https://localhost:8080/"
        },
        "id": "lG_E4nH0JhGo",
        "outputId": "5c9263f6-ad6f-49e3-8b9a-392a82f9e033"
      },
      "source": [
        "hashing=hashlib.shake_128(b.encode())\n",
        "print(hashing.digest(10))"
      ],
      "execution_count": 26,
      "outputs": [
        {
          "output_type": "stream",
          "text": [
            "b'\\x8e\\xb4\\xb6\\xa92\\xf2\\x803^\\xe1'\n"
          ],
          "name": "stdout"
        }
      ]
    },
    {
      "cell_type": "markdown",
      "metadata": {
        "id": "V9VW9Dl6L7-U"
      },
      "source": [
        "Get the string from user and encrypt it by sha1 Algorithm"
      ]
    },
    {
      "cell_type": "code",
      "metadata": {
        "colab": {
          "base_uri": "https://localhost:8080/"
        },
        "id": "e7UoRyiHLgYs",
        "outputId": "c1f04e45-7444-4704-ea09-2e8541ef9e2c"
      },
      "source": [
        "hashing=hashlib.sha1(b.encode())\n",
        "print(hashing.hexdigest())"
      ],
      "execution_count": 27,
      "outputs": [
        {
          "output_type": "stream",
          "text": [
            "aaf4c61ddcc5e8a2dabede0f3b482cd9aea9434d\n"
          ],
          "name": "stdout"
        }
      ]
    },
    {
      "cell_type": "markdown",
      "metadata": {
        "id": "pHo5NBSkb0el"
      },
      "source": [
        "Get the string from user and encrypt it by sha3_224 Algorithm"
      ]
    },
    {
      "cell_type": "code",
      "metadata": {
        "colab": {
          "base_uri": "https://localhost:8080/"
        },
        "id": "PLjdjh3_-GR2",
        "outputId": "24709c53-7e75-4dd2-f544-11df0aab913d"
      },
      "source": [
        "hashing=hashlib.sha3_224(b.encode())\n",
        "print(hashing.hexdigest())"
      ],
      "execution_count": 28,
      "outputs": [
        {
          "output_type": "stream",
          "text": [
            "b87f88c72702fff1748e58b87e9141a42c0dbedc29a78cb0d4a5cd81\n"
          ],
          "name": "stdout"
        }
      ]
    },
    {
      "cell_type": "markdown",
      "metadata": {
        "id": "3daDLzVsMMzw"
      },
      "source": [
        "Get the string from user and encrypt it by sha3_512 Algorithm"
      ]
    },
    {
      "cell_type": "code",
      "metadata": {
        "colab": {
          "base_uri": "https://localhost:8080/"
        },
        "id": "X8gsjQlcb7pe",
        "outputId": "e596bbfc-0b8c-4e5e-d809-2e1ff1700d62"
      },
      "source": [
        "hashing=hashlib.sha3_512(b.encode())\n",
        "print(hashing.hexdigest())"
      ],
      "execution_count": 29,
      "outputs": [
        {
          "output_type": "stream",
          "text": [
            "75d527c368f2efe848ecf6b073a36767800805e9eef2b1857d5f984f036eb6df891d75f72d9b154518c1cd58835286d1da9a38deba3de98b5a53e5ed78a84976\n"
          ],
          "name": "stdout"
        }
      ]
    },
    {
      "cell_type": "markdown",
      "metadata": {
        "id": "5EZSABJ-crOT"
      },
      "source": [
        "Get the string from user and encrypt it by blake2b Algorithm"
      ]
    },
    {
      "cell_type": "code",
      "metadata": {
        "colab": {
          "base_uri": "https://localhost:8080/"
        },
        "id": "oKpUxvR4c3BD",
        "outputId": "ee427ec3-c8cc-4849-fce8-240cc66a3d3a"
      },
      "source": [
        "hashing=hashlib.blake2b(b.encode())\n",
        "print(hashing.hexdigest())"
      ],
      "execution_count": 30,
      "outputs": [
        {
          "output_type": "stream",
          "text": [
            "e4cfa39a3d37be31c59609e807970799caa68a19bfaa15135f165085e01d41a65ba1e1b146aeb6bd0092b49eac214c103ccfa3a365954bbbe52f74a2b3620c94\n"
          ],
          "name": "stdout"
        }
      ]
    },
    {
      "cell_type": "markdown",
      "metadata": {
        "id": "Mc_eKPkFdPPC"
      },
      "source": [
        "Get the string from user and encrypt it by sha512 Algorithm"
      ]
    },
    {
      "cell_type": "code",
      "metadata": {
        "colab": {
          "base_uri": "https://localhost:8080/"
        },
        "id": "PDIRa79cdpOO",
        "outputId": "13b7661e-63fe-4053-b540-002e32a59016"
      },
      "source": [
        "hashing=hashlib.sha512(b.encode())\n",
        "print(hashing.hexdigest())"
      ],
      "execution_count": 31,
      "outputs": [
        {
          "output_type": "stream",
          "text": [
            "9b71d224bd62f3785d96d46ad3ea3d73319bfbc2890caadae2dff72519673ca72323c3d99ba5c11d7c7acc6e14b8c5da0c4663475c2e5c3adef46f73bcdec043\n"
          ],
          "name": "stdout"
        }
      ]
    },
    {
      "cell_type": "markdown",
      "metadata": {
        "id": "Gb4m8cYldu8Z"
      },
      "source": [
        "Get the string from user and encrypt it by sha256 Algorithm"
      ]
    },
    {
      "cell_type": "code",
      "metadata": {
        "colab": {
          "base_uri": "https://localhost:8080/"
        },
        "id": "RHi_nrsmeThC",
        "outputId": "c3ce8ef9-a4c9-48e0-e71a-bb5d070d6647"
      },
      "source": [
        "hashing=hashlib.sha256(b.encode())\n",
        "print(hashing.hexdigest())"
      ],
      "execution_count": 32,
      "outputs": [
        {
          "output_type": "stream",
          "text": [
            "2cf24dba5fb0a30e26e83b2ac5b9e29e1b161e5c1fa7425e73043362938b9824\n"
          ],
          "name": "stdout"
        }
      ]
    },
    {
      "cell_type": "markdown",
      "metadata": {
        "id": "kmU-tOXaebB0"
      },
      "source": [
        "Get the string from user and encrypt it by sha224 Algorithm"
      ]
    },
    {
      "cell_type": "code",
      "metadata": {
        "colab": {
          "base_uri": "https://localhost:8080/"
        },
        "id": "-goE4RjfefDw",
        "outputId": "ad87a311-a29a-4eb4-e92b-1eff9865d63a"
      },
      "source": [
        "hashing=hashlib.sha224(b.encode())\n",
        "print(hashing.hexdigest())"
      ],
      "execution_count": 33,
      "outputs": [
        {
          "output_type": "stream",
          "text": [
            "ea09ae9cc6768c50fcee903ed054556e5bfc8347907f12598aa24193\n"
          ],
          "name": "stdout"
        }
      ]
    },
    {
      "cell_type": "markdown",
      "metadata": {
        "id": "YvkcLrhNfGy6"
      },
      "source": [
        "Get the string from user and encrypt it by sha384 Algorithm"
      ]
    },
    {
      "cell_type": "code",
      "metadata": {
        "colab": {
          "base_uri": "https://localhost:8080/"
        },
        "id": "qz0VovzsfRDv",
        "outputId": "b7227b96-5406-4f0e-eb77-575702cdf16f"
      },
      "source": [
        "hashing=hashlib.sha384(b.encode())\n",
        "print(hashing.hexdigest())"
      ],
      "execution_count": 34,
      "outputs": [
        {
          "output_type": "stream",
          "text": [
            "59e1748777448c69de6b800d7a33bbfb9ff1b463e44354c3553bcdb9c666fa90125a3c79f90397bdf5f6a13de828684f\n"
          ],
          "name": "stdout"
        }
      ]
    },
    {
      "cell_type": "markdown",
      "metadata": {
        "id": "cpCXnWZBfgys"
      },
      "source": [
        "Get the string from user and encrypt it by sha3_384 Algorithm"
      ]
    },
    {
      "cell_type": "code",
      "metadata": {
        "colab": {
          "base_uri": "https://localhost:8080/"
        },
        "id": "w74SBYhCfvS_",
        "outputId": "056afc20-a8cc-4fbc-a79c-4b2d98b77622"
      },
      "source": [
        "hashing=hashlib.sha3_384(b.encode())\n",
        "print(hashing.hexdigest())"
      ],
      "execution_count": 35,
      "outputs": [
        {
          "output_type": "stream",
          "text": [
            "720aea11019ef06440fbf05d87aa24680a2153df3907b23631e7177ce620fa1330ff07c0fddee54699a4c3ee0ee9d887\n"
          ],
          "name": "stdout"
        }
      ]
    },
    {
      "cell_type": "markdown",
      "metadata": {
        "id": "kxga2SWjgBDt"
      },
      "source": [
        "SALTING:"
      ]
    },
    {
      "cell_type": "markdown",
      "metadata": {
        "id": "a0BbMYUbhP4Y"
      },
      "source": [
        "md5 Salting"
      ]
    },
    {
      "cell_type": "code",
      "metadata": {
        "colab": {
          "base_uri": "https://localhost:8080/"
        },
        "id": "Ie8vPLzFXUYI",
        "outputId": "8044ca1c-c043-432c-e64a-df9f765fdf89"
      },
      "source": [
        "dk = hashlib.pbkdf2_hmac(\"md5\",b\"hello\",b\"123\",10)\n",
        "print(binascii.hexlify(dk))"
      ],
      "execution_count": 36,
      "outputs": [
        {
          "output_type": "stream",
          "text": [
            "b'b3178a2382b17677877ed69731934a8d'\n"
          ],
          "name": "stdout"
        }
      ]
    },
    {
      "cell_type": "markdown",
      "metadata": {
        "id": "8FezrlC-hTQJ"
      },
      "source": [
        "sha1 Salting"
      ]
    },
    {
      "cell_type": "code",
      "metadata": {
        "colab": {
          "base_uri": "https://localhost:8080/"
        },
        "id": "cdD2zJqPhKj4",
        "outputId": "33de68aa-bf88-4607-d903-4a900236a38e"
      },
      "source": [
        "dk = hashlib.pbkdf2_hmac(\"sha1\",b\"hello\",b\"123\",10)\n",
        "print(binascii.hexlify(dk))"
      ],
      "execution_count": 37,
      "outputs": [
        {
          "output_type": "stream",
          "text": [
            "b'c8f7116a0b36e9075a98cf3b07d42fa0bf0b2563'\n"
          ],
          "name": "stdout"
        }
      ]
    }
  ]
}